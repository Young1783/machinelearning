{
 "cells": [
  {
   "cell_type": "markdown",
   "metadata": {},
   "source": [
    "## 作图"
   ]
  },
  {
   "cell_type": "markdown",
   "metadata": {},
   "source": [
    "### import modules"
   ]
  },
  {
   "cell_type": "code",
   "execution_count": 1,
   "metadata": {
    "ExecuteTime": {
     "end_time": "2019-03-24T14:40:33.056584Z",
     "start_time": "2019-03-24T14:40:31.112869Z"
    }
   },
   "outputs": [],
   "source": [
    "%matplotlib inline\n",
    "import seaborn as sns\n",
    "import numpy as np\n",
    "import matplotlib.pyplot as plt\n",
    "import pandas as pd\n",
    "import torch\n",
    "from torch import nn"
   ]
  },
  {
   "cell_type": "markdown",
   "metadata": {},
   "source": [
    "### prepare data"
   ]
  },
  {
   "cell_type": "code",
   "execution_count": 2,
   "metadata": {
    "ExecuteTime": {
     "end_time": "2019-03-24T14:40:33.072326Z",
     "start_time": "2019-03-24T14:40:33.058303Z"
    }
   },
   "outputs": [
    {
     "data": {
      "text/plain": [
       "(97, 2)"
      ]
     },
     "execution_count": 2,
     "metadata": {},
     "output_type": "execute_result"
    }
   ],
   "source": [
    "data =pd.read_csv(\"./ex1data1.txt\",header=None)\n",
    "data = data.to_numpy()\n",
    "data.shape"
   ]
  },
  {
   "cell_type": "markdown",
   "metadata": {
    "heading_collapsed": true
   },
   "source": [
    "### setting rc"
   ]
  },
  {
   "cell_type": "code",
   "execution_count": 3,
   "metadata": {
    "ExecuteTime": {
     "end_time": "2019-03-24T14:40:33.080318Z",
     "start_time": "2019-03-24T14:40:33.076046Z"
    },
    "hidden": true,
    "scrolled": true
   },
   "outputs": [],
   "source": [
    "plt.rcParams['xtick.direction'] = 'in'\n",
    "plt.rcParams['ytick.direction'] = 'in'\n",
    "#plt.rcParams['figure.figsize'] = (15.0, 8.0)\n",
    "plt.rcParams['figure.dpi'] = 100"
   ]
  },
  {
   "cell_type": "markdown",
   "metadata": {},
   "source": [
    "### plotting"
   ]
  },
  {
   "cell_type": "code",
   "execution_count": 4,
   "metadata": {
    "ExecuteTime": {
     "end_time": "2019-03-24T14:40:33.242780Z",
     "start_time": "2019-03-24T14:40:33.083705Z"
    },
    "scrolled": false
   },
   "outputs": [
    {
     "data": {
      "image/png": "[encoded data removed]",
      "text/plain": [
       "<Figure size 600x400 with 1 Axes>"
      ]
     },
     "metadata": {
      "needs_background": "light"
     },
     "output_type": "display_data"
    }
   ],
   "source": [
    "# plotting\n",
    "plt.xlabel('Population of City in 10,000s')\n",
    "plt.xticks([2*x+4 for x in range(11)])\n",
    "plt.ylabel('Profit in $10,000s')\n",
    "plt.yticks([5*x-5 for x in range(7)])\n",
    "plt.ylim([-5,25])\n",
    "plt.plot(data[:,0],data[:,1],'rx')\n",
    "plt.show()"
   ]
  },
  {
   "cell_type": "markdown",
   "metadata": {
    "ExecuteTime": {
     "end_time": "2019-03-23T04:43:25.445186Z",
     "start_time": "2019-03-23T04:43:25.437045Z"
    }
   },
   "source": [
    "## 梯度下降法（BGD）"
   ]
  },
  {
   "cell_type": "markdown",
   "metadata": {},
   "source": [
    "### config hyper-parameter"
   ]
  },
  {
   "cell_type": "code",
   "execution_count": 5,
   "metadata": {
    "ExecuteTime": {
     "end_time": "2019-03-24T14:40:33.248438Z",
     "start_time": "2019-03-24T14:40:33.244521Z"
    }
   },
   "outputs": [],
   "source": [
    "# initial weight\n",
    "theta = np.zeros([2, 1])\n",
    "\n",
    "# initial learning weight\n",
    "alpha = 0.01 \n",
    "\n",
    "# iterations\n",
    "iterations = 1500\n",
    "\n",
    "# add bias item\n",
    "X = np.hstack((np.ones((data.shape[0],1)),data[:,[0]]))\n",
    "y = data[:,[1]]\n"
   ]
  },
  {
   "cell_type": "markdown",
   "metadata": {},
   "source": [
    "### prepare training/test dataset"
   ]
  },
  {
   "cell_type": "code",
   "execution_count": 6,
   "metadata": {
    "ExecuteTime": {
     "end_time": "2019-03-24T14:40:33.252546Z",
     "start_time": "2019-03-24T14:40:33.249907Z"
    }
   },
   "outputs": [],
   "source": [
    "dataset = np.hstack(( np.ones((data.shape[0],1)), data))\n",
    "\n"
   ]
  },
  {
   "cell_type": "markdown",
   "metadata": {},
   "source": [
    "### train"
   ]
  },
  {
   "cell_type": "code",
   "execution_count": 7,
   "metadata": {
    "ExecuteTime": {
     "end_time": "2019-03-24T14:40:33.338802Z",
     "start_time": "2019-03-24T14:40:33.253953Z"
    }
   },
   "outputs": [],
   "source": [
    "J_list=[]\n",
    "# print(dataset[:,[0,1]].shape)\n",
    "# print(dataset[:,[0,1]].dot(theta)- dataset [:,[2]])\n",
    "J_list.append((dataset[:,[0,1]]@theta- dataset [:,[2]]).T  @ ( dataset[:,[0,1]]@theta- dataset [:,[2]]) / 2 / dataset.shape[0])\n",
    "\n",
    "for i in range(iterations):\n",
    "    theta = theta - alpha * (dataset[:,[0,1]].T \\\n",
    "                             @ ( dataset[:,[0,1]] @ theta - dataset [:,[2]] ))/dataset.shape[0]\n",
    "#     grade=( dataset[:,[0,1]] @ theta - dataset [:,[2]] ) * dataset[:,[0,1]]\n",
    "#     theta = theta - alpha * np.mean((( dataset[:,[0,1]] @ theta - dataset [:,[2]] ) * dataset[:,[0,1]]),axis=0).reshape((2,1))\n",
    "    J = (dataset[:,[0,1]]@theta- dataset [:,[2]]).T  @ ( dataset[:,[0,1]]@theta- dataset [:,[2]]) / 2 / dataset.shape[0]\n",
    "    J_list.append(J)\n",
    "\n"
   ]
  },
  {
   "cell_type": "markdown",
   "metadata": {},
   "source": [
    "### final theta"
   ]
  },
  {
   "cell_type": "code",
   "execution_count": 8,
   "metadata": {
    "ExecuteTime": {
     "end_time": "2019-03-24T14:40:33.345052Z",
     "start_time": "2019-03-24T14:40:33.341332Z"
    }
   },
   "outputs": [
    {
     "name": "stdout",
     "output_type": "stream",
     "text": [
      "final theta:\n",
      "[[-3.63029144]\n",
      " [ 1.16636235]]\n"
     ]
    }
   ],
   "source": [
    "print('final theta:\\n'\n",
    "      '{}'\n",
    "      .format(theta))\n"
   ]
  },
  {
   "cell_type": "markdown",
   "metadata": {},
   "source": [
    "### plotting LR"
   ]
  },
  {
   "cell_type": "code",
   "execution_count": 9,
   "metadata": {
    "ExecuteTime": {
     "end_time": "2019-03-24T14:40:33.474538Z",
     "start_time": "2019-03-24T14:40:33.347476Z"
    },
    "scrolled": false
   },
   "outputs": [
    {
     "data": {
      "image/png": "[encoded data removed]",
      "text/plain": [
       "<Figure size 600x400 with 1 Axes>"
      ]
     },
     "metadata": {
      "needs_background": "light"
     },
     "output_type": "display_data"
    }
   ],
   "source": [
    "\n",
    "plt.xlabel('Population of City in 10,000s')\n",
    "plt.xticks([2*x+4 for x in range(11)])\n",
    "plt.ylabel('Profit in $10,000s')\n",
    "plt.yticks([5*x-5 for x in range(7)])\n",
    "plt.ylim([-5,25])\n",
    "plt.plot(dataset[:,[1]],dataset[:,[2]],'rx',label='training dataset')\n",
    "l_x = [np.min(data[:,[0]]), np.max(data[:,[0]])]\n",
    "l_y = np.hstack(( np.ones((2,1)), np.array(l_x).reshape((2,1)) )).dot(theta)\n",
    "plt.plot(l_x,l_y,'g-',label='LR model')\n",
    "plt.legend(loc='lower right')\n",
    "plt.show()\n",
    "\n"
   ]
  },
  {
   "cell_type": "markdown",
   "metadata": {},
   "source": [
    "### cost"
   ]
  },
  {
   "cell_type": "code",
   "execution_count": 10,
   "metadata": {
    "ExecuteTime": {
     "end_time": "2019-03-24T14:40:33.480957Z",
     "start_time": "2019-03-24T14:40:33.476494Z"
    }
   },
   "outputs": [
    {
     "name": "stdout",
     "output_type": "stream",
     "text": [
      "init cost:\n",
      "[[32.07273388]]\n",
      "============\n",
      "After 1500 iterations, the final cost:\n",
      "[[4.48338826]]\n"
     ]
    }
   ],
   "source": [
    "print('init cost:\\n'\n",
    "      '{}'\n",
    "      .format(J_list[0]))\n",
    "print('============')\n",
    "print('After {} iterations, the final cost:\\n'\n",
    "      '{}'\n",
    "      .format(iterations,J_list[-1]))"
   ]
  },
  {
   "cell_type": "markdown",
   "metadata": {},
   "source": [
    "### visualize the cost"
   ]
  },
  {
   "cell_type": "code",
   "execution_count": 11,
   "metadata": {
    "ExecuteTime": {
     "end_time": "2019-03-24T14:40:33.754586Z",
     "start_time": "2019-03-24T14:40:33.482369Z"
    }
   },
   "outputs": [
    {
     "data": {
      "image/png": "[encoded data removed]",
      "text/plain": [
       "<Figure size 600x400 with 1 Axes>"
      ]
     },
     "metadata": {
      "needs_background": "light"
     },
     "output_type": "display_data"
    }
   ],
   "source": [
    "\n",
    "ax = sns.lineplot(y=[x.reshape(1)[0] for x in J_list],x=np.arange(iterations+1),color='r')\n",
    "ax.set_xlabel('Iterations')\n",
    "ax.set_ylabel('Cost')\n",
    "\n",
    "plt.show()"
   ]
  },
  {
   "cell_type": "markdown",
   "metadata": {},
   "source": [
    "## 多变量"
   ]
  },
  {
   "cell_type": "markdown",
   "metadata": {},
   "source": [
    "### normalization"
   ]
  },
  {
   "cell_type": "code",
   "execution_count": 12,
   "metadata": {
    "ExecuteTime": {
     "end_time": "2019-03-24T14:40:33.767152Z",
     "start_time": "2019-03-24T14:40:33.756011Z"
    }
   },
   "outputs": [
    {
     "data": {
      "text/html": [
       "<div>\n",
       "<style scoped>\n",
       "    .dataframe tbody tr th:only-of-type {\n",
       "        vertical-align: middle;\n",
       "    }\n",
       "\n",
       "    .dataframe tbody tr th {\n",
       "        vertical-align: top;\n",
       "    }\n",
       "\n",
       "    .dataframe thead th {\n",
       "        text-align: right;\n",
       "    }\n",
       "</style>\n",
       "<table border=\"1\" class=\"dataframe\">\n",
       "  <thead>\n",
       "    <tr style=\"text-align: right;\">\n",
       "      <th></th>\n",
       "      <th>square</th>\n",
       "      <th>bedrooms</th>\n",
       "      <th>price</th>\n",
       "    </tr>\n",
       "  </thead>\n",
       "  <tbody>\n",
       "    <tr>\n",
       "      <th>0</th>\n",
       "      <td>2104</td>\n",
       "      <td>3</td>\n",
       "      <td>399900</td>\n",
       "    </tr>\n",
       "    <tr>\n",
       "      <th>1</th>\n",
       "      <td>1600</td>\n",
       "      <td>3</td>\n",
       "      <td>329900</td>\n",
       "    </tr>\n",
       "    <tr>\n",
       "      <th>2</th>\n",
       "      <td>2400</td>\n",
       "      <td>3</td>\n",
       "      <td>369000</td>\n",
       "    </tr>\n",
       "    <tr>\n",
       "      <th>3</th>\n",
       "      <td>1416</td>\n",
       "      <td>2</td>\n",
       "      <td>232000</td>\n",
       "    </tr>\n",
       "    <tr>\n",
       "      <th>4</th>\n",
       "      <td>3000</td>\n",
       "      <td>4</td>\n",
       "      <td>539900</td>\n",
       "    </tr>\n",
       "  </tbody>\n",
       "</table>\n",
       "</div>"
      ],
      "text/plain": [
       "   square  bedrooms   price\n",
       "0    2104         3  399900\n",
       "1    1600         3  329900\n",
       "2    2400         3  369000\n",
       "3    1416         2  232000\n",
       "4    3000         4  539900"
      ]
     },
     "execution_count": 12,
     "metadata": {},
     "output_type": "execute_result"
    }
   ],
   "source": [
    "row_data = pd.read_csv('./ex1data2.txt', names=['square', 'bedrooms', 'price'])\n",
    "row_data.head()"
   ]
  },
  {
   "cell_type": "code",
   "execution_count": 13,
   "metadata": {
    "ExecuteTime": {
     "end_time": "2019-03-24T14:40:33.783070Z",
     "start_time": "2019-03-24T14:40:33.768645Z"
    }
   },
   "outputs": [
    {
     "data": {
      "text/html": [
       "<div>\n",
       "<style scoped>\n",
       "    .dataframe tbody tr th:only-of-type {\n",
       "        vertical-align: middle;\n",
       "    }\n",
       "\n",
       "    .dataframe tbody tr th {\n",
       "        vertical-align: top;\n",
       "    }\n",
       "\n",
       "    .dataframe thead th {\n",
       "        text-align: right;\n",
       "    }\n",
       "</style>\n",
       "<table border=\"1\" class=\"dataframe\">\n",
       "  <thead>\n",
       "    <tr style=\"text-align: right;\">\n",
       "      <th></th>\n",
       "      <th>square</th>\n",
       "      <th>bedrooms</th>\n",
       "      <th>price</th>\n",
       "    </tr>\n",
       "  </thead>\n",
       "  <tbody>\n",
       "    <tr>\n",
       "      <th>0</th>\n",
       "      <td>0.130010</td>\n",
       "      <td>-0.223675</td>\n",
       "      <td>0.475747</td>\n",
       "    </tr>\n",
       "    <tr>\n",
       "      <th>1</th>\n",
       "      <td>-0.504190</td>\n",
       "      <td>-0.223675</td>\n",
       "      <td>-0.084074</td>\n",
       "    </tr>\n",
       "    <tr>\n",
       "      <th>2</th>\n",
       "      <td>0.502476</td>\n",
       "      <td>-0.223675</td>\n",
       "      <td>0.228626</td>\n",
       "    </tr>\n",
       "    <tr>\n",
       "      <th>3</th>\n",
       "      <td>-0.735723</td>\n",
       "      <td>-1.537767</td>\n",
       "      <td>-0.867025</td>\n",
       "    </tr>\n",
       "    <tr>\n",
       "      <th>4</th>\n",
       "      <td>1.257476</td>\n",
       "      <td>1.090417</td>\n",
       "      <td>1.595389</td>\n",
       "    </tr>\n",
       "  </tbody>\n",
       "</table>\n",
       "</div>"
      ],
      "text/plain": [
       "     square  bedrooms     price\n",
       "0  0.130010 -0.223675  0.475747\n",
       "1 -0.504190 -0.223675 -0.084074\n",
       "2  0.502476 -0.223675  0.228626\n",
       "3 -0.735723 -1.537767 -0.867025\n",
       "4  1.257476  1.090417  1.595389"
      ]
     },
     "execution_count": 13,
     "metadata": {},
     "output_type": "execute_result"
    }
   ],
   "source": [
    "norm_data = row_data.apply(lambda col: (col-col.mean()) / col.std())\n",
    "norm_data.head()"
   ]
  },
  {
   "cell_type": "markdown",
   "metadata": {},
   "source": [
    "### train"
   ]
  },
  {
   "cell_type": "code",
   "execution_count": 14,
   "metadata": {
    "ExecuteTime": {
     "end_time": "2019-03-24T14:40:33.790814Z",
     "start_time": "2019-03-24T14:40:33.784420Z"
    }
   },
   "outputs": [
    {
     "name": "stdout",
     "output_type": "stream",
     "text": [
      "(47, 3) <class 'numpy.ndarray'>\n",
      "(47, 1) <class 'numpy.ndarray'>\n"
     ]
    }
   ],
   "source": [
    "norm_data_o = pd.concat([pd.DataFrame({'ones':np.ones(len(norm_data))}), norm_data], axis=1)\n",
    "\n",
    "X_m = np.array(norm_data_o.iloc[:, :-1])\n",
    "y_m = np.array(norm_data_o.iloc[:,-1]).reshape((len(norm_data),1))\n",
    "print(X_m.shape,type(X_m))\n",
    "print(y_m.shape,type(y_m))"
   ]
  },
  {
   "cell_type": "code",
   "execution_count": 15,
   "metadata": {
    "ExecuteTime": {
     "end_time": "2019-03-24T14:40:33.827987Z",
     "start_time": "2019-03-24T14:40:33.792540Z"
    }
   },
   "outputs": [],
   "source": [
    "theta_m = np.ones((X_m.shape[1],1))\n",
    "J_list_m = []\n",
    "\n",
    "J_list_m.append((X_m@theta_m- y_m).T  @ ( X_m @ theta_m- y_m) / 2 / X_m.shape[0])\n",
    "\n",
    "for i in range(iterations):\n",
    "    theta_m = theta_m - alpha * (X_m.T \\\n",
    "                             @ ( X_m @ theta_m - y_m ))/X_m.shape[0]\n",
    "    J_m = (X_m@theta_m- y_m).T  @ ( X_m@theta_m-y_m) / 2 / X_m.shape[0]\n",
    "    J_list_m.append(J_m)"
   ]
  },
  {
   "cell_type": "code",
   "execution_count": 16,
   "metadata": {
    "ExecuteTime": {
     "end_time": "2019-03-24T14:40:34.087639Z",
     "start_time": "2019-03-24T14:40:33.830174Z"
    }
   },
   "outputs": [
    {
     "data": {
      "image/png": "[encoded data removed]",
      "text/plain": [
       "<Figure size 600x400 with 1 Axes>"
      ]
     },
     "metadata": {
      "needs_background": "light"
     },
     "output_type": "display_data"
    }
   ],
   "source": [
    "ax = sns.lineplot(y=[x.reshape(1)[0] for x in J_list_m],x=np.arange(iterations+1),color='r')\n",
    "ax.set_xlabel('Iterations')\n",
    "ax.set_ylabel('Cost')\n",
    "\n",
    "plt.show()"
   ]
  },
  {
   "cell_type": "markdown",
   "metadata": {},
   "source": [
    "## pytorch实现单变量线性回归"
   ]
  },
  {
   "cell_type": "markdown",
   "metadata": {},
   "source": [
    "### build model"
   ]
  },
  {
   "cell_type": "code",
   "execution_count": 17,
   "metadata": {
    "ExecuteTime": {
     "end_time": "2019-03-24T14:40:34.093839Z",
     "start_time": "2019-03-24T14:40:34.089654Z"
    }
   },
   "outputs": [],
   "source": [
    "class LinearRegression(nn.Module):\n",
    "    \n",
    "    def __init__(self,input_dim, output_dim):\n",
    "        super().__init__()\n",
    "        self.linear = nn.Linear(input_dim, output_dim)\n",
    "       \n",
    "    \n",
    "    def forward(self,X):\n",
    "        out = self.linear(X)\n",
    "        return out\n",
    "    \n",
    "    "
   ]
  },
  {
   "cell_type": "markdown",
   "metadata": {},
   "source": [
    "### settings"
   ]
  },
  {
   "cell_type": "code",
   "execution_count": 18,
   "metadata": {
    "ExecuteTime": {
     "end_time": "2019-03-24T14:40:34.102835Z",
     "start_time": "2019-03-24T14:40:34.095936Z"
    }
   },
   "outputs": [],
   "source": [
    "model = LinearRegression(1,1) # 输入一维特征数据，输出一维特征数据\n",
    "epochs=1500\n",
    "l_rate=0.01\n",
    "optimiser = torch.optim.SGD(model.parameters(), lr=l_rate)\n",
    "loss_function=nn.MSELoss()"
   ]
  },
  {
   "cell_type": "markdown",
   "metadata": {},
   "source": [
    "### train"
   ]
  },
  {
   "cell_type": "code",
   "execution_count": 19,
   "metadata": {
    "ExecuteTime": {
     "end_time": "2019-03-24T14:40:34.288277Z",
     "start_time": "2019-03-24T14:40:34.104146Z"
    }
   },
   "outputs": [
    {
     "name": "stdout",
     "output_type": "stream",
     "text": [
      "The 100st epoch, loss is 10.558629989624023\n",
      "The 200st epoch, loss is 9.73320198059082\n",
      "The 300st epoch, loss is 9.332361221313477\n",
      "The 400st epoch, loss is 9.137707710266113\n",
      "The 500st epoch, loss is 9.043181419372559\n",
      "The 600st epoch, loss is 8.997278213500977\n",
      "The 700st epoch, loss is 8.974987030029297\n",
      "The 800st epoch, loss is 8.96416187286377\n",
      "The 900st epoch, loss is 8.958905220031738\n",
      "The 1000st epoch, loss is 8.956352233886719\n",
      "The 1100st epoch, loss is 8.95511245727539\n",
      "The 1200st epoch, loss is 8.954510688781738\n",
      "The 1300st epoch, loss is 8.954218864440918\n",
      "The 1400st epoch, loss is 8.954076766967773\n",
      "The 1500st epoch, loss is 8.954007148742676\n"
     ]
    }
   ],
   "source": [
    "\n",
    "inputs_tensor=torch.from_numpy(data[:,[0]]).type(torch.float)\n",
    "labels_tensor=torch.from_numpy(data[:,[1]]).type(torch.float)\n",
    "\n",
    "for epoch in range(epochs):\n",
    "    epoch+=1\n",
    "    \n",
    "    optimiser.zero_grad()\n",
    "    \n",
    "    output4model=model.forward(inputs_tensor)\n",
    "    loss = loss_function(output4model, labels_tensor)\n",
    "    loss.backward()\n",
    "    optimiser.step()\n",
    "    \n",
    "    if epoch % 100 == 0 :\n",
    "        print('The {}st epoch, loss is {}'\n",
    "              .format(epoch,loss.data))\n"
   ]
  },
  {
   "cell_type": "markdown",
   "metadata": {},
   "source": [
    "### plotting"
   ]
  },
  {
   "cell_type": "code",
   "execution_count": 20,
   "metadata": {
    "ExecuteTime": {
     "end_time": "2019-03-24T14:40:34.424560Z",
     "start_time": "2019-03-24T14:40:34.289783Z"
    }
   },
   "outputs": [
    {
     "data": {
      "image/png": "[encoded data removed]",
      "text/plain": [
       "<Figure size 600x400 with 1 Axes>"
      ]
     },
     "metadata": {
      "needs_background": "light"
     },
     "output_type": "display_data"
    }
   ],
   "source": [
    "predict = model.forward(inputs_tensor).data.numpy()\n",
    "plt.plot(inputs_tensor.data.numpy(), labels_tensor.data.numpy(), 'r+', label='dataset')\n",
    "plt.plot(inputs_tensor.data.numpy(), predict, 'b-', label='pytorch')\n",
    "plt.legend()\n",
    "plt.show()"
   ]
  }
 ],
 "metadata": {
  "kernelspec": {
   "display_name": "pytorch",
   "language": "python",
   "name": "pytorch"
  },
  "language_info": {
   "codemirror_mode": {
    "name": "ipython",
    "version": 3
   },
   "file_extension": ".py",
   "mimetype": "text/x-python",
   "name": "python",
   "nbconvert_exporter": "python",
   "pygments_lexer": "ipython3",
   "version": "3.7.2"
  },
  "toc": {
   "base_numbering": 1,
   "nav_menu": {
    "height": "40px",
    "width": "163px"
   },
   "number_sections": true,
   "sideBar": true,
   "skip_h1_title": false,
   "title_cell": "Table of Contents",
   "title_sidebar": "Contents",
   "toc_cell": false,
   "toc_position": {},
   "toc_section_display": true,
   "toc_window_display": true
  }
 },
 "nbformat": 4,
 "nbformat_minor": 2
}
